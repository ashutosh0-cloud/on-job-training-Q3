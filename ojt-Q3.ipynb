{
 "cells": [
  {
   "cell_type": "code",
   "execution_count": 1,
   "id": "dbc03316",
   "metadata": {},
   "outputs": [],
   "source": [
    "#Q2. Row Echelon Form: Create a 5x5 matrix, A, with entries randomly chosen integers between 0 and 9. To generate the random matrix, set the random seed as the last two digits of your roll number. Reduce matrix A to its Row Echelon Form by performing elementary row operations. \n"
   ]
  },
  {
   "cell_type": "code",
   "execution_count": 10,
   "id": "889c89b1",
   "metadata": {},
   "outputs": [
    {
     "name": "stdout",
     "output_type": "stream",
     "text": [
      "Matrix A:\n",
      "[[3 9 8 0 7]\n",
      " [1 9 4 2 1]\n",
      " [9 7 6 0 7]\n",
      " [0 3 6 7 3]\n",
      " [3 5 7 4 7]]\n",
      "\n",
      "Row Echelon Form of Matrix A:\n",
      "[[ 1.          3.          2.66666667  0.          2.33333333]\n",
      " [ 0.          1.          0.22222222  0.33333333 -0.22222222]\n",
      " [-0.         -0.          1.         -0.49180328  1.36065574]\n",
      " [ 0.          0.          0.          1.         -0.41634981]\n",
      " [ 0.          0.          0.          0.          1.        ]]\n"
     ]
    }
   ],
   "source": [
    "import numpy as np\n",
    "A = np.random.randint(0, 10, (5, 5))\n",
    "print(\"Matrix A:\")\n",
    "print(A)\n",
    "A = A.astype(float)\n",
    "rows, cols = A.shape\n",
    "for r in range(rows):\n",
    "    pivot = A[r, r]\n",
    "    if pivot != 0:\n",
    "        A[r] = A[r] / pivot\n",
    "    for r2 in range(r + 1, rows):\n",
    "        multiplier = A[r2, r]\n",
    "        A[r2] = A[r2] - multiplier * A[r]\n",
    "\n",
    "print(\"\\nRow Echelon Form of Matrix A:\")\n",
    "print(A)\n"
   ]
  },
  {
   "cell_type": "code",
   "execution_count": 14,
   "id": "0fdae684",
   "metadata": {},
   "outputs": [
    {
     "name": "stdout",
     "output_type": "stream",
     "text": [
      "Matrix U:\n",
      " [[ 0.95012915 -0.17661052  0.04087731 -0.00989703 -0.25356346]\n",
      " [ 0.11881334 -0.49893237  0.15873012  0.23944494  0.80896276]\n",
      " [ 0.26270089  0.63710567 -0.19168111 -0.45823744  0.52759966]\n",
      " [-0.05043818 -0.43785174 -0.84821019 -0.29358926 -0.0093091 ]\n",
      " [ 0.10762075  0.34965329 -0.46575918  0.80398505  0.05326132]]\n",
      "\n",
      "Singular Values Σ:\n",
      " [4.98707908 1.77176691 0.82017742 0.53067431 0.26002271]\n",
      "\n",
      "Matrix V:\n",
      " [[ 0.19051816  0.59537872  0.56601901 -0.02807874  0.53671321]\n",
      " [-0.09968045 -0.58064293  0.03119509 -0.5178408   0.61950413]\n",
      " [ 0.04983959  0.34305021 -0.05779432 -0.85473062 -0.38200516]\n",
      " [-0.01864991  0.39525912 -0.81296478  0.02183713  0.42665422]\n",
      " [-0.97515888  0.18564682  0.1199893   0.00334551  0.01384915]]\n",
      "\n",
      "Approximated Matrix A:\n",
      " [[ 1.00000000e+00  3.00000000e+00  2.66666667e+00  4.31512465e-17\n",
      "   2.33333333e+00]\n",
      " [ 2.77555756e-17  1.00000000e+00  2.22222222e-01  3.33333333e-01\n",
      "  -2.22222222e-01]\n",
      " [-5.55111512e-17 -3.29597460e-16  1.00000000e+00 -4.91803279e-01\n",
      "   1.36065574e+00]\n",
      " [ 1.83447008e-16  3.04877651e-16 -2.62376926e-16  1.00000000e+00\n",
      "  -4.16349810e-01]\n",
      " [ 6.93889390e-18  9.19403442e-17  2.37657116e-16 -3.93999069e-16\n",
      "   1.00000000e+00]]\n",
      "\n",
      "Is A equal to the product of U, Σ, and V? True\n",
      "\n",
      "Rank 2 Approximation:\n",
      " [[ 0.93393667  3.00281473  2.67224571  0.02899152  2.34929462]\n",
      " [ 0.20100473  0.8660643   0.30780791  0.44112952 -0.22961711]\n",
      " [ 0.13708021  0.12458037  0.77676035 -0.62132636  1.40245138]\n",
      " [ 0.02940644  0.300685   -0.16657621  0.40878889 -0.61559788]\n",
      " [ 0.04050117 -0.04016307  0.32311537 -0.33587475  0.67184644]]\n",
      "\n",
      "Rank 3 Approximation:\n",
      " [[ 9.35607622e-01  3.01431605e+00  2.67030806e+00  3.35267991e-04\n",
      "   2.33648727e+00]\n",
      " [ 2.07493186e-01  9.10724933e-01  3.00283852e-01  3.29854825e-01\n",
      "  -2.79349164e-01]\n",
      " [ 1.29244806e-01  7.06485777e-02  7.85846342e-01 -4.86952003e-01\n",
      "   1.46250737e+00]\n",
      " [-5.26610832e-03  6.20308534e-02 -1.26369693e-01  1.00341033e+00\n",
      "  -3.49843442e-01]\n",
      " [ 2.14621839e-02 -1.71210023e-01  3.45193098e-01 -9.36323403e-03\n",
      "   8.17774382e-01]]\n"
     ]
    }
   ],
   "source": [
    "import numpy as np\n",
    "import scipy.linalg as la\n",
    "\n",
    "# Perform Singular Value Decomposition on matrix A\n",
    "U, S, V = la.svd(A)\n",
    "\n",
    "# Separate and print matrices U, Σ, and V\n",
    "print(\"Matrix U:\\n\", U)\n",
    "print(\"\\nSingular Values Σ:\\n\", S)\n",
    "print(\"\\nMatrix V:\\n\", V)\n",
    "\n",
    "# Verify that A equals the product of U, Σ, and V\n",
    "A_approximated = np.dot(U, np.dot(np.diag(S), V))\n",
    "print(\"\\nApproximated Matrix A:\\n\", A_approximated)\n",
    "\n",
    "# Check if A equals the product of U, Σ, and V\n",
    "print(\"\\nIs A equal to the product of U, Σ, and V?\", np.allclose(A, A_approximated))\n",
    "\n",
    "# Find the rank 2 and rank 3 approximations of matrix A\n",
    "U_rank2 = U[:, :2]\n",
    "S_rank2 = np.diag(S[:2])\n",
    "V_rank2 = V[:2, :]\n",
    "\n",
    "U_rank3 = U[:, :3]\n",
    "S_rank3 = np.diag(S[:3])\n",
    "V_rank3 = V[:3, :]\n",
    "\n",
    "# Print the rank 2 and rank 3 approximations of matrix A\n",
    "print(\"\\nRank 2 Approximation:\\n\", np.dot(U_rank2, np.dot(S_rank2, V_rank2)))\n",
    "print(\"\\nRank 3 Approximation:\\n\", np.dot(U_rank3, np.dot(S_rank3, V_rank3)))"
   ]
  },
  {
   "cell_type": "code",
   "execution_count": null,
   "id": "84f91eb9",
   "metadata": {},
   "outputs": [],
   "source": []
  }
 ],
 "metadata": {
  "kernelspec": {
   "display_name": "Python 3 (ipykernel)",
   "language": "python",
   "name": "python3"
  },
  "language_info": {
   "codemirror_mode": {
    "name": "ipython",
    "version": 3
   },
   "file_extension": ".py",
   "mimetype": "text/x-python",
   "name": "python",
   "nbconvert_exporter": "python",
   "pygments_lexer": "ipython3",
   "version": "3.11.5"
  }
 },
 "nbformat": 4,
 "nbformat_minor": 5
}
